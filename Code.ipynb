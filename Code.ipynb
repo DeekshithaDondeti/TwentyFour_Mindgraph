{
 "cells": [
  {
   "cell_type": "code",
   "execution_count": 131,
   "id": "673839b6",
   "metadata": {},
   "outputs": [],
   "source": [
    "from fuzzywuzzy import fuzz\n",
    "import pandas as pd\n",
    "import json\n",
    "import pickle"
   ]
  },
  {
   "cell_type": "code",
   "execution_count": 132,
   "id": "7ec3b75d",
   "metadata": {},
   "outputs": [],
   "source": [
    "df1 = pd.read_csv(\"Clubs_data.csv\")\n",
    "df2 = pd.read_csv('Metadata.csv')\n",
    "df3 = pd.read_csv('Organisers_In_Fests.csv')\n",
    "df4 = pd.read_csv('Participants_In_Fests.csv')"
   ]
  },
  {
   "cell_type": "code",
   "execution_count": 133,
   "id": "b869326c",
   "metadata": {},
   "outputs": [],
   "source": [
    "names2 = df2[df2.columns[0]].values.tolist() # appending all the names in metadata to a list\n",
    "\n",
    "def join_ratio(s1: str, s2: str) -> int: # This function returns the fuzz ratio between two strings by removing spaces\n",
    "    return fuzz.ratio(s1.replace(\" \", \"\"), s2.replace(\" \", \"\"))\n",
    "\n",
    "def set_ratio(s1: str, s2: str) -> int: # This function return the fuzz ratio between two strings without removing spaces\n",
    "    return fuzz.token_set_ratio(s1, s2)"
   ]
  },
  {
   "cell_type": "code",
   "execution_count": 134,
   "id": "6df02964",
   "metadata": {},
   "outputs": [],
   "source": [
    "for i in range(len(df1)): #Replacing all the fuzzy names in clubs dataframe with actual names from metadata frameset\n",
    "    if len(df1.iloc[i]['Name'])==2 and df1.iloc[i]['Name'].isupper()==True:\n",
    "        df1.iloc[i]['Name']=df1.iloc[i]['Name'][0]+' '+df1.iloc[i]['Name'][1]        \n",
    "    s=0\n",
    "    c=df1.iloc[i]['Name'][0]+df1.iloc[i]['Name'][1:].lower()\n",
    "    for j in range(len(names2)):\n",
    "        d=names2[j]\n",
    "        a=max(set_ratio(c, d), join_ratio(c, d)) #Taking max fuzz ratio by comparing the two string with and without spaces.\n",
    "            \n",
    "        if s<a:\n",
    "            s=a\n",
    "            b=j\n",
    "    df1.iloc[i]['Name']=names2[b]"
   ]
  },
  {
   "cell_type": "code",
   "execution_count": 135,
   "id": "a939927d",
   "metadata": {},
   "outputs": [],
   "source": [
    "for i in range(len(df3)): #Replacing all the fuzzy names in organisers frame with actual names from metadata dataframe\n",
    "    if len(df3.iloc[i]['Name'])==2 and df3.iloc[i]['Name'].isupper()==True:\n",
    "        df3.iloc[i]['Name']=df3.iloc[i]['Name'][0]+' '+df3.iloc[i]['Name'][1] \n",
    "    s=0\n",
    "    c=df3.iloc[i]['Name'][0]+df3.iloc[i]['Name'][1:].lower()\n",
    "    for j in range(len(names2)):\n",
    "        d=names2[j]\n",
    "        a=max(set_ratio(c, d), join_ratio(c, d))\n",
    "            \n",
    "        if s<a:\n",
    "            s=a\n",
    "            b=j\n",
    "    df3.iloc[i]['Name']=names2[b]"
   ]
  },
  {
   "cell_type": "code",
   "execution_count": 136,
   "id": "ed56c241",
   "metadata": {},
   "outputs": [],
   "source": [
    "for i in range(len(df4)): #Replacing all the fuzzy names in participants dataset with actual names from metadata dataframe\n",
    "    if len(df4.iloc[i]['Name'])==2 and df4.iloc[i]['Name'].isupper()==True:\n",
    "        df4.iloc[i]['Name']=df4.iloc[i]['Name'][0]+' '+df4.iloc[i]['Name'][1]   \n",
    "    s=0\n",
    "    c=df4.iloc[i]['Name'][0]+df4.iloc[i]['Name'][1:].lower()\n",
    "    for j in range(len(names2)):\n",
    "        d=names2[j]\n",
    "        a=max(set_ratio(c, d), join_ratio(c, d))\n",
    "            \n",
    "        if s<a:\n",
    "            s=a\n",
    "            b=j\n",
    "    df4.iloc[i]['Name']=names2[b]"
   ]
  },
  {
   "cell_type": "code",
   "execution_count": 137,
   "id": "8765b05f",
   "metadata": {},
   "outputs": [],
   "source": [
    "df2[['club1_isorganiser','club_1_event_1_participated','club_1_event_2_participated','club_1_event_3_participated','club2_isorganiser','club_2_event_1_participated','club_2_event_2_participated','club_2_event_3_participated','club3_isorganiser','club_3_event_1_participated','club_3_event_2_participated','club_3_event_3_participated']]=pd.DataFrame([['', 'False','False', 'False','', 'False', 'False','False','','False', 'False', 'False']], index=df2.index)"
   ]
  },
  {
   "cell_type": "code",
   "execution_count": 138,
   "id": "163f0580",
   "metadata": {},
   "outputs": [],
   "source": [
    "for i in range(len(df1)):  # Merging clubs and metadata dataframes \n",
    "    if (df1.iloc[i]['Club_Name'][-1]) == '1':\n",
    "        a=df1.iloc[i]['Name']\n",
    "        for j in range(len(df2)):\n",
    "            if a == df2.iloc[j]['Name']:\n",
    "                if df1.iloc[i]['Role'] != 'Participant':\n",
    "                    df2.loc[j]['club1_isorganiser']='organiser'\n",
    "                 \n",
    "                elif df2.loc[j]['club1_isorganiser']!='organiser' and df1.iloc[i]['Role'] == 'Participant':\n",
    "                    df2.loc[j]['club1_isorganiser']=''\n",
    "                \n",
    "                b=df1.iloc[i]['Event'][-1]\n",
    "                df2.loc[j]['club_1_event_'+b+'_participated']='True'\n",
    "        \n",
    "        \n",
    "    elif (df1.iloc[i]['Club_Name'][-1]) == '2':\n",
    "        a=df1.iloc[i]['Name']\n",
    "        for j in range(len(df2)):\n",
    "            if a == df2.iloc[j]['Name']:\n",
    "                if df1.iloc[i]['Role'] != 'Participant':\n",
    "                    df2.loc[j]['club2_isorganiser']='organiser'\n",
    "                 \n",
    "                elif df2.loc[j]['club2_isorganiser']!='organiser' and df1.iloc[i]['Role'] == 'Participant':\n",
    "                    df2.loc[j]['club2_isorganiser']=''\n",
    "                \n",
    "                b=df1.iloc[i]['Event'][-1]\n",
    "                df2.loc[j]['club_2_event_'+b+'_participated']='True'\n",
    "      \n",
    "    \n",
    "    elif (df1.iloc[i]['Club_Name'][-1]) == '3':\n",
    "        a=df1.iloc[i]['Name']\n",
    "        for j in range(len(df2)):\n",
    "            if a == df2.iloc[j]['Name']:\n",
    "                if df1.iloc[i]['Role'] != 'Participant':\n",
    "                    df2.loc[j]['club3_isorganiser']='organiser'\n",
    "                 \n",
    "                elif df2.loc[j]['club3_isorganiser']!='organiser' and df1.iloc[i]['Role'] == 'Participant':\n",
    "                    df2.loc[j]['club3_isorganiser']=''\n",
    "                \n",
    "                b=df1.iloc[i]['Event'][-1]\n",
    "                df2.loc[j]['club_3_event_'+b+'_participated']='True'\n"
   ]
  },
  {
   "cell_type": "code",
   "execution_count": 139,
   "id": "37d88391",
   "metadata": {},
   "outputs": [],
   "source": [
    "for i in range(1,4): #combining all the clubs columns into one column in metadata dataframe\n",
    "    for j in range(1,4):\n",
    "        df2.rename(columns = {'club_'+str(i) +'_event_'+str(j) +'_participated':'Participated'}, inplace = True)\n",
    "        df2['club_'+str(i) +'_event_'+str(j)]=df2[['Participated']].to_dict('records')\n",
    "        df2.rename(columns = {'Participated':'club_'+str(i) +'_event_'+str(j) +'_participated'}, inplace = True)\n",
    "        \n",
    "    df2.rename(columns = {'club'+str(i)+'_isorganiser':'isOrganiser'}, inplace = True)\n",
    "    df2['club_'+str(i)]=df2[['isOrganiser','club_'+str(i)+'_event_1','club_'+str(i)+'_event_2','club_'+str(i)+'_event_3']].to_dict('records')\n",
    "    df2.rename(columns = {'isOrganiser':'club'+str(i)+'_isorganiser'}, inplace = True)\n",
    "    df2=df2.drop(['club_'+str(i)+'_event_1','club_'+str(i)+'_event_2','club_'+str(i)+'_event_3'],axis=1)\n",
    "    \n",
    "    \n",
    "df2['clubs']=df2[['club_1','club_2','club_3']].to_dict('records')\n",
    "df2=df2.drop(['club_1','club_2','club_3'],axis=1)"
   ]
  },
  {
   "cell_type": "code",
   "execution_count": 140,
   "id": "9d055ac0",
   "metadata": {},
   "outputs": [],
   "source": [
    "df2[['fest1_isorganiser','fest_1_event_1_participated','fest_1_event_2_participated','fest_1_event_3_participated','fest_1_event_4_participated','fest_1_event_5_participated','fest_1_event_6_participated','fest_1_event_7_participated','fest_1_event_8_participated','fest_1_event_9_participated','fest_1_event_10_participated','fest_1_event_11_participated','fest_1_event_12_participated','fest_1_event_13_participated']]=pd.DataFrame([['','False','False','False','False','False','False','False','False','False','False','False','False','False']],index=df2.index)\n",
    "df2[['fest2_isorganiser','fest_2_event_1_participated','fest_2_event_2_participated','fest_2_event_3_participated','fest_2_event_4_participated','fest_2_event_5_participated','fest_2_event_6_participated','fest_2_event_7_participated','fest_2_event_8_participated','fest_2_event_9_participated','fest_2_event_10_participated','fest_2_event_11_participated','fest_2_event_12_participated','fest_2_event_13_participated','fest_2_event_14_participated','fest_2_event_15_participated']]=pd.DataFrame([['','False','False','False','False','False','False','False','False','False','False','False','False','False','False','False',]], index=df2.index)\n"
   ]
  },
  {
   "cell_type": "code",
   "execution_count": 141,
   "id": "3d66428e",
   "metadata": {},
   "outputs": [],
   "source": [
    "for i in range(len(df3)):# Merging fest organisers and metadata dataframes\n",
    "    if (df3.iloc[i]['Fest_Name'][-1]) == '1':\n",
    "        a=df3.iloc[i]['Name']\n",
    "        for j in range(len(df2)):\n",
    "            if a == df2.iloc[j]['Name']:\n",
    "                df2.loc[j]['fest1_isorganiser']='Organiser'\n",
    "        \n",
    "    elif (df3.iloc[i]['Fest_Name'][-1]) == '2':\n",
    "        a=df3.iloc[i]['Name']\n",
    "        for j in range(len(df2)):\n",
    "            if a == df2.iloc[j]['Name']:\n",
    "                df2.loc[j]['fest2_isorganiser']='Organiser'"
   ]
  },
  {
   "cell_type": "code",
   "execution_count": 142,
   "id": "ef811354",
   "metadata": {},
   "outputs": [],
   "source": [
    "for i in range(len(df4)): # Merging fest participants and meta dataframe\n",
    "    if (df4.iloc[i]['Event'][5:6]) == '1':\n",
    "        a=df4.iloc[i]['Name']\n",
    "        for j in range(len(df2)):\n",
    "            if a == df2.iloc[j]['Name']:\n",
    "                b = df4.iloc[i]['Event'][-1]\n",
    "                df2.loc[j]['fest_1_event_'+b+'_participated']='True'\n",
    "                        \n",
    "    elif (df4.iloc[i]['Event'][5:6]) == '2':\n",
    "        a=df4.iloc[i]['Name']\n",
    "        for j in range(len(df2)):\n",
    "            if a == df2.iloc[j]['Name']:\n",
    "                b = df4.iloc[i]['Event'][-1]\n",
    "                df2.loc[j]['fest_2_event_'+b+'_participated']='True'"
   ]
  },
  {
   "cell_type": "code",
   "execution_count": 143,
   "id": "a5101b79",
   "metadata": {},
   "outputs": [],
   "source": [
    "for j in range(1,14):  #combining all the fests columns into one column in metadata dataframe\n",
    "    df2.rename(columns = {'fest_1_event_'+str(j) +'_participated':'Participated'}, inplace = True)\n",
    "    df2['fest_1_event_'+str(j)]=df2[['Participated']].to_dict('records')\n",
    "    df2.rename(columns = {'Participated':'fest_1_event_'+str(j) +'_participated'}, inplace = True)\n",
    "    \n",
    "df2.rename(columns = {'fest1_isorganiser':'isOrganiser'}, inplace = True)\n",
    "df2['fest_1']=df2[['isOrganiser','fest_1_event_1','fest_1_event_2','fest_1_event_3','fest_1_event_4','fest_1_event_5','fest_1_event_6','fest_1_event_7','fest_1_event_8','fest_1_event_9','fest_1_event_10','fest_1_event_11','fest_1_event_12','fest_1_event_13']].to_dict('records')\n",
    "df2.rename(columns = {'isOrganiser':'fest1_isorganiser'}, inplace = True)\n",
    "df2=df2.drop(['fest_1_event_1','fest_1_event_2','fest_1_event_3','fest_1_event_4','fest_1_event_5','fest_1_event_6','fest_1_event_7','fest_1_event_8','fest_1_event_9','fest_1_event_10','fest_1_event_11','fest_1_event_12','fest_1_event_13'],axis=1)\n",
    "\n",
    "for j in range(1,16):\n",
    "    df2.rename(columns = {'fest_2_event_'+str(j) +'_participated':'Participated'}, inplace = True)\n",
    "    df2['fest_2_event_'+str(j)]=df2[['Participated']].to_dict('records')\n",
    "    df2.rename(columns = {'Participated':'fest_2_event_'+str(j) +'_participated'}, inplace = True)\n",
    "\n",
    "df2.rename(columns = {'fest2_isorganiser':'isOrganiser'}, inplace = True)\n",
    "df2['fest_2']=df2[['isOrganiser','fest_2_event_1','fest_2_event_2','fest_2_event_3','fest_2_event_4','fest_2_event_5','fest_2_event_6','fest_2_event_7','fest_2_event_8','fest_2_event_9','fest_2_event_10','fest_2_event_11','fest_2_event_12','fest_2_event_13','fest_2_event_14','fest_2_event_15']].to_dict('records')\n",
    "df2.rename(columns = {'isOrganiser':'fest2_isorganiser'}, inplace = True)\n",
    "df2=df2.drop(['fest_2_event_1','fest_2_event_2','fest_2_event_3','fest_2_event_4','fest_2_event_5','fest_2_event_6','fest_2_event_7','fest_2_event_8','fest_2_event_9','fest_2_event_10','fest_2_event_11','fest_2_event_12','fest_2_event_13','fest_2_event_14','fest_2_event_15'],axis=1)\n",
    " \n",
    "df2['fests']=df2[['fest_1','fest_2']].to_dict('records')\n",
    "df2=df2.drop(['fest_1','fest_2'],axis=1)"
   ]
  },
  {
   "cell_type": "code",
   "execution_count": 144,
   "id": "021eea13",
   "metadata": {},
   "outputs": [],
   "source": [
    "out = df2[['Name', 'ID', 'clubs','fests']].to_json(orient='records', indent=4) #converting data from dataframe from to json format \n",
    "my_data_file = open('FINALDATA.json', 'w') # creating json format\n",
    "with open('FINALDATA.json', 'w') as f: \n",
    "    f.write(out)"
   ]
  },
  {
   "cell_type": "code",
   "execution_count": 145,
   "id": "25f4aa68",
   "metadata": {},
   "outputs": [],
   "source": [
    "df2['json']=df2[['ID','clubs','fests']].to_dict('records') #creating a dataframe with student names and their profiles\n",
    "df5=pd.DataFrame(zip(df2['Name'],df2['json']),columns=['Name','json'])"
   ]
  },
  {
   "cell_type": "code",
   "execution_count": 146,
   "id": "65f3ec87",
   "metadata": {},
   "outputs": [],
   "source": [
    "#clubbing columns together\n",
    "df2['club1'] = df2['club1_isorganiser']+df2['club_1_event_1_participated']+df2['club_1_event_2_participated']+df2['club_1_event_3_participated']\n",
    "df2['club2'] = df2['club2_isorganiser']+df2['club_2_event_1_participated']+df2['club_2_event_2_participated']+df2['club_2_event_3_participated']\n",
    "df2['club3'] = df2['club3_isorganiser']+df2['club_3_event_1_participated']+df2['club_3_event_2_participated']+df2['club_3_event_3_participated']\n",
    "df2['festnum']= df2['fest1_isorganiser']+df2['fest_1_event_1_participated']+df2['fest_1_event_2_participated']+df2[ 'fest_1_event_3_participated']+df2['fest_1_event_4_participated']+ df2['fest_1_event_5_participated']+ df2['fest_1_event_6_participated']+ df2[ 'fest_1_event_7_participated']+ df2['fest_1_event_8_participated']+ df2[ 'fest_1_event_9_participated']+ df2['fest_1_event_10_participated']+ df2[ 'fest_1_event_11_participated']+ df2['fest_1_event_12_participated']+ df2['fest_1_event_13_participated']+ df2['fest2_isorganiser']+ df2[ 'fest_2_event_1_participated']+ df2['fest_2_event_2_participated']+ df2[ 'fest_2_event_3_participated']+ df2['fest_2_event_4_participated']+ df2[ 'fest_2_event_5_participated']+ df2['fest_2_event_6_participated']+ df2['fest_2_event_7_participated']+ df2['fest_2_event_8_participated']+ df2[ 'fest_2_event_9_participated']+ df2['fest_2_event_10_participated']+ df2[ 'fest_2_event_11_participated']+ df2['fest_2_event_12_participated']+ df2['fest_2_event_13_participated']+ df2['fest_2_event_14_participated']+ df2[ 'fest_2_event_15_participated']\n",
    "df2['clubnum']= df2['club1']+df2['club2']+df2['club3']\n"
   ]
  },
  {
   "cell_type": "code",
   "execution_count": 147,
   "id": "f8637a51",
   "metadata": {},
   "outputs": [],
   "source": [
    "#ranking the eligibility of students for general secretary giving respective priority to each factor\n",
    "gensec = []\n",
    "for i in range(len(df2)):\n",
    "    gensec.append((df2.iloc[i]['clubnum'].count('True')/9)*20 + (df2.iloc[i]['festnum'].count('True')/28)*10 + (df2.iloc[i]['clubnum'].count('organiser')/3)*30 + (df2.iloc[i]['festnum'].count('organiser')/2)*40)\n",
    "general = pd.DataFrame(list(zip(names2,gensec)),columns =['Name', 'Score'])\n",
    "general=general.sort_values(\"Score\", ascending = False)\n"
   ]
  },
  {
   "cell_type": "code",
   "execution_count": 148,
   "id": "46b7fe9d",
   "metadata": {},
   "outputs": [],
   "source": [
    "#ranking the eligibility of students for club 1 secretary giving respective priority to each factor\n",
    "club11 = []\n",
    "for i in range(len(df2)):\n",
    "    club11.append( (df2.iloc[i]['club1'].count('True')/3)*30 + (df2.iloc[i]['club1'].count('organiser')/1)*70 )\n",
    "club1sec = pd.DataFrame(list(zip(names2,club11)),columns =['Name', 'Score'])\n",
    "club1sec=club1sec.sort_values(\"Score\", ascending = False)\n"
   ]
  },
  {
   "cell_type": "code",
   "execution_count": 149,
   "id": "01998167",
   "metadata": {},
   "outputs": [],
   "source": [
    "#ranking the eligibility of students for club 2 secretary giving respective priority to each factor\n",
    "club22 = []\n",
    "for i in range(len(df2)):\n",
    "    club22.append((df2.iloc[i]['club2'].count('True')/3)*30 + (df2.iloc[i]['club2'].count('organiser')/1)*70 )\n",
    "club2sec = pd.DataFrame(list(zip(names2,club22)),columns =['Name', 'Score'])\n",
    "club2sec=club2sec.sort_values(\"Score\", ascending = False)\n"
   ]
  },
  {
   "cell_type": "code",
   "execution_count": 150,
   "id": "0c96320b",
   "metadata": {},
   "outputs": [],
   "source": [
    "#ranking the eligibility of students for club 3 secretary giving respective priority to each factor\n",
    "club33 = []\n",
    "for i in range(len(df2)):\n",
    "    club33.append( (df2.iloc[i]['club3'].count('True')/3)*30 + (df2.iloc[i]['club3'].count('organiser')/1)*70 )\n",
    "club3sec = pd.DataFrame(list(zip(names2,club33)),columns =['Name', 'Score'])\n",
    "club3sec=club3sec.sort_values(\"Score\", ascending = False)\n"
   ]
  },
  {
   "cell_type": "code",
   "execution_count": 151,
   "id": "2577a115",
   "metadata": {},
   "outputs": [],
   "source": [
    "#ranking the eligibility of students for clutural secretary giving respective priority to each factor\n",
    "festsum = []\n",
    "for i in range(len(df2)):\n",
    "    festsum.append( (df2.iloc[i]['festnum'].count('True')/28)*10 + (df2.iloc[i]['festnum'].count('Organiser')/2)*90 )\n",
    "cultsec = pd.DataFrame(list(zip(names2,festsum)),columns =['Name', 'Score'])\n",
    "cultsec=cultsec.sort_values(\"Score\", ascending = False)\n"
   ]
  },
  {
   "cell_type": "code",
   "execution_count": 152,
   "id": "2d6ff3bc",
   "metadata": {},
   "outputs": [],
   "source": [
    "#converting dataframes to pkl files\n",
    "pickle.dump(general,open('general.pkl','wb'))\n",
    "pickle.dump(club1sec,open('club1sec.pkl','wb'))\n",
    "pickle.dump(club2sec,open('club2sec.pkl','wb'))\n",
    "pickle.dump(club3sec,open('club3sec.pkl','wb'))\n",
    "pickle.dump(cultsec,open('cultsec.pkl','wb'))\n",
    "pickle.dump(df5,open('profile.pkl','wb'))"
   ]
  }
 ],
 "metadata": {
  "kernelspec": {
   "display_name": "Python 3 (ipykernel)",
   "language": "python",
   "name": "python3"
  },
  "language_info": {
   "codemirror_mode": {
    "name": "ipython",
    "version": 3
   },
   "file_extension": ".py",
   "mimetype": "text/x-python",
   "name": "python",
   "nbconvert_exporter": "python",
   "pygments_lexer": "ipython3",
   "version": "3.9.12"
  }
 },
 "nbformat": 4,
 "nbformat_minor": 5
}
